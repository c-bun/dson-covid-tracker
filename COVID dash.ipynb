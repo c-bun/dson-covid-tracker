{
 "cells": [
  {
   "cell_type": "code",
   "execution_count": 5,
   "metadata": {},
   "outputs": [],
   "source": [
    "#! pip install requests"
   ]
  },
  {
   "cell_type": "code",
   "execution_count": 6,
   "metadata": {},
   "outputs": [],
   "source": [
    "#! pip install beautifulsoup4"
   ]
  },
  {
   "cell_type": "code",
   "execution_count": 39,
   "metadata": {},
   "outputs": [
    {
     "name": "stdout",
     "output_type": "stream",
     "text": [
      "Collecting Jinja2\n",
      "  Using cached Jinja2-3.0.3-py3-none-any.whl (133 kB)\n",
      "Collecting MarkupSafe>=2.0\n",
      "  Using cached MarkupSafe-2.0.1-cp38-cp38-macosx_10_9_x86_64.whl (13 kB)\n",
      "Installing collected packages: MarkupSafe, Jinja2\n",
      "Successfully installed Jinja2-3.0.3 MarkupSafe-2.0.1\n"
     ]
    }
   ],
   "source": [
    "#! pip install Jinja2"
   ]
  },
  {
   "cell_type": "code",
   "execution_count": 19,
   "metadata": {},
   "outputs": [
    {
     "name": "stdout",
     "output_type": "stream",
     "text": [
      "found data, reading site\n",
      "Found Current numbers: Students pos/cum. pos/quarantine:6/50/0\n",
      "New numbers!\n",
      "Appended. Writing csv.\n"
     ]
    }
   ],
   "source": [
    "#%%writefile dson_COVID_scraper.py\n",
    "\n",
    "# script:\n",
    "# read in data\n",
    "# check site\n",
    "# compare data\n",
    "# if different:\n",
    "    # send message\n",
    "    # append data\n",
    "    \n",
    "import pandas as pd\n",
    "import datetime\n",
    "import requests\n",
    "from bs4 import BeautifulSoup\n",
    "\n",
    "def parse_soup(soup):\n",
    "    td = soup.find_all('td')\n",
    "    result = [x.get_text() for x in td]\n",
    "    to_send = \"Students pos/cum. pos/quarantine:\" + result[2]+ '/' + result[3]+ '/' + result[4]\n",
    "    to_append = [int(result[2]), int(result[3]), int(result[4])]\n",
    "    return to_append, to_send\n",
    "\n",
    "def telegram_bot_sendtext(bot_message):\n",
    "    \n",
    "    bot_token = '2113495995:AAE0-1MxKj6MNECSrobxt6tIcOj9wYz10OA'\n",
    "    bot_chatID = '2122924009'\n",
    "    send_text = 'https://api.telegram.org/bot' + bot_token + '/sendMessage?chat_id=' + bot_chatID + '&parse_mode=Markdown&text=' + bot_message\n",
    "\n",
    "    response = requests.get(send_text)\n",
    "\n",
    "    return response.json()\n",
    "\n",
    "try:\n",
    "    data = pd.read_csv('./data.csv', index_col=0)\n",
    "except FileNotFoundError:\n",
    "    print(\"CSV does not exist. Creating new one.\")\n",
    "    time = datetime.datetime.now().strftime(\"%x %X\")\n",
    "    df = pd.DataFrame({'time':[time], 'pos':[0], 'cumulative':[0], 'quarantine':[0]})\n",
    "    df.to_csv('./data.csv')\n",
    "    data = pd.read_csv('./data.csv', index_col=0)\n",
    "    \n",
    "print(\"found data, reading site\")\n",
    "\n",
    "url = \"https://www.dickinson.edu/homepage/1505/fall_2021_semester_information\"\n",
    "page = requests.get(url)\n",
    "\n",
    "soup = BeautifulSoup(page.text, 'html.parser')\n",
    "\n",
    "current_numbers, to_send = parse_soup(soup)\n",
    "print(\"Found Current numbers:\", to_send)\n",
    "\n",
    "last_numbers = list(data.iloc[-1].values[1:])\n",
    "\n",
    "if last_numbers != current_numbers:\n",
    "    print(\"New numbers!\")\n",
    "    time = datetime.datetime.now().strftime(\"%x %X\")\n",
    "    new_numbers = pd.DataFrame({'time':[time],'pos':[current_numbers[0]], 'cumulative':[current_numbers[1]], 'quarantine':[current_numbers[2]]})\n",
    "    data = data.append(new_numbers, ignore_index=True)\n",
    "    print(\"Appended. Writing csv.\")\n",
    "    data.to_csv('./data.csv')\n",
    "    \n",
    "    # send telegram\n",
    "    telegram_bot_sendtext(to_send)\n",
    "    \n",
    "else:\n",
    "    print(\"No new numbers right now.\")"
   ]
  },
  {
   "cell_type": "code",
   "execution_count": 58,
   "metadata": {},
   "outputs": [
    {
     "data": {
      "image/png": "[encoded data removed]",
      "text/plain": [
       "<Figure size 360x216 with 1 Axes>"
      ]
     },
     "metadata": {
      "needs_background": "light"
     },
     "output_type": "display_data"
    }
   ],
   "source": [
    "from matplotlib import pyplot as plt\n",
    "\n",
    "pos_barplot = data[:10].plot(x='datetime', y='pos', kind='bar', figsize=(5,3), ylabel=\"Positive Cases\", legend=False)\n",
    "plt.savefig(\"./dson-covid-counts/plot.png\", bbox_inches=\"tight\")"
   ]
  },
  {
   "cell_type": "code",
   "execution_count": 49,
   "metadata": {},
   "outputs": [
    {
     "name": "stdout",
     "output_type": "stream",
     "text": [
      "<table border=\"1\" class=\"dataframe\">\n",
      "  <thead>\n",
      "    <tr style=\"text-align: right;\">\n",
      "      <th></th>\n",
      "      <th>time</th>\n",
      "      <th>pos</th>\n",
      "      <th>cumulative</th>\n",
      "      <th>quarantine</th>\n",
      "      <th>datetime</th>\n",
      "    </tr>\n",
      "  </thead>\n",
      "  <tbody>\n",
      "    <tr>\n",
      "      <th>0</th>\n",
      "      <td>11/24/21 09:14:00</td>\n",
      "      <td>0</td>\n",
      "      <td>0</td>\n",
      "      <td>0</td>\n",
      "      <td>2021-11-24 09:14:00</td>\n",
      "    </tr>\n",
      "    <tr>\n",
      "      <th>1</th>\n",
      "      <td>11/24/21 09:14:01</td>\n",
      "      <td>10</td>\n",
      "      <td>47</td>\n",
      "      <td>2</td>\n",
      "      <td>2021-11-24 09:14:01</td>\n",
      "    </tr>\n",
      "    <tr>\n",
      "      <th>2</th>\n",
      "      <td>11/30/21 10:02:35</td>\n",
      "      <td>6</td>\n",
      "      <td>50</td>\n",
      "      <td>0</td>\n",
      "      <td>2021-11-30 10:02:35</td>\n",
      "    </tr>\n",
      "  </tbody>\n",
      "</table>\n"
     ]
    }
   ],
   "source": [
    "data_html = data.to_html()\n",
    "print(data_html)"
   ]
  },
  {
   "cell_type": "code",
   "execution_count": 45,
   "metadata": {},
   "outputs": [],
   "source": [
    "from jinja2 import Environment, select_autoescape, FileSystemLoader\n",
    "env = Environment(loader=FileSystemLoader('./dson-covid-counts/templates'))\n",
    "#env = Environment(\n",
    "#    loader=PackageLoader(\"yourapp\"),\n",
    "#    autoescape=select_autoescape()\n",
    "#)\n",
    "\n",
    "template = env.get_template(\"index.html\")"
   ]
  },
  {
   "cell_type": "code",
   "execution_count": 61,
   "metadata": {},
   "outputs": [],
   "source": [
    "#print(template.render(plot_path=\"plot.png\", rendered_table=data_html))\n",
    "site = template.render(plot_path=\"plot.png\", rendered_table=data_html)"
   ]
  },
  {
   "cell_type": "code",
   "execution_count": null,
   "metadata": {},
   "outputs": [],
   "source": []
  },
  {
   "cell_type": "code",
   "execution_count": 60,
   "metadata": {},
   "outputs": [
    {
     "name": "stderr",
     "output_type": "stream",
     "text": [
      "sh: send: command not found\n"
     ]
    },
    {
     "data": {
      "text/plain": [
       "32512"
      ]
     },
     "execution_count": 60,
     "metadata": {},
     "output_type": "execute_result"
    }
   ],
   "source": [
    "import os\n",
    "\n",
    "os.system(\"send the website to git\")"
   ]
  },
  {
   "cell_type": "code",
   "execution_count": null,
   "metadata": {},
   "outputs": [],
   "source": []
  }
 ],
 "metadata": {
  "kernelspec": {
   "display_name": "Python [conda env:general-ml]",
   "language": "python",
   "name": "conda-env-general-ml-py"
  },
  "language_info": {
   "codemirror_mode": {
    "name": "ipython",
    "version": 3
   },
   "file_extension": ".py",
   "mimetype": "text/x-python",
   "name": "python",
   "nbconvert_exporter": "python",
   "pygments_lexer": "ipython3",
   "version": "3.8.10"
  }
 },
 "nbformat": 4,
 "nbformat_minor": 4
}
